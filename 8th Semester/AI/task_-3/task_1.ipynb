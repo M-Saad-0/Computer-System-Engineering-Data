{
 "cells": [
  {
   "cell_type": "markdown",
   "metadata": {},
   "source": [
    "# Interactive Classification with KNN & SVM (Iris Dataset)"
   ]
  },
  {
   "cell_type": "markdown",
   "metadata": {},
   "source": [
    "## Step 1: Install & Import Libraries"
   ]
  },
  {
   "cell_type": "code",
   "execution_count": null,
   "metadata": {},
   "outputs": [],
   "source": [
    "# Install Plotly for interactive plots\n",
    "!pip install plotly"
   ]
  },
  {
   "cell_type": "code",
   "execution_count": null,
   "metadata": {},
   "outputs": [],
   "source": [
    "import numpy as np\n",
    "import pandas as pd\n",
    "from sklearn.datasets import load_iris\n",
    "from sklearn.model_selection import train_test_split, GridSearchCV\n",
    "from sklearn.preprocessing import StandardScaler\n",
    "from sklearn.neighbors import KNeighborsClassifier\n",
    "from sklearn.svm import SVC\n",
    "from sklearn.metrics import accuracy_score, classification_report\n",
    "from sklearn.decomposition import PCA\n",
    "import plotly.express as px\n",
    "import plotly.graph_objects as go"
   ]
  },
  {
   "cell_type": "markdown",
   "metadata": {},
   "source": [
    "## Step 2: Load & Preprocess Data"
   ]
  },
  {
   "cell_type": "code",
   "execution_count": null,
   "metadata": {},
   "outputs": [],
   "source": [
    "# Load Iris dataset\n",
    "iris = load_iris()\n",
    "X, y = iris.data, iris.target\n",
    "feature_names = iris.feature_names\n",
    "target_names = iris.target_names\n",
    "\n",
    "# Train-test split\n",
    "X_train, X_test, y_train, y_test = train_test_split(X, y, test_size=0.3, random_state=42)\n",
    "\n",
    "# Standardize features\n",
    "scaler = StandardScaler()\n",
    "X_train_scaled = scaler.fit_transform(X_train)\n",
    "X_test_scaled = scaler.transform(X_test)"
   ]
  },
  {
   "cell_type": "markdown",
   "metadata": {},
   "source": [
    "## Step 3: Dimensionality Reduction (PCA)"
   ]
  },
  {
   "cell_type": "code",
   "execution_count": null,
   "metadata": {},
   "outputs": [],
   "source": [
    "# Reduce to 3 principal components\n",
    "pca = PCA(n_components=3)\n",
    "X_train_pca = pca.fit_transform(X_train_scaled)\n",
    "X_test_pca = pca.transform(X_test_scaled)\n",
    "\n",
    "print(f\"Explained variance ratio: {pca.explained_variance_ratio_}\")\n",
    "print(f\"Total explained variance: {sum(pca.explained_variance_ratio_):.2f}\")"
   ]
  },
  {
   "cell_type": "markdown",
   "metadata": {},
   "source": [
    "## Step 4: Model Training & Evaluation"
   ]
  },
  {
   "cell_type": "markdown",
   "metadata": {},
   "source": [
    "### K-Nearest Neighbors"
   ]
  },
  {
   "cell_type": "code",
   "execution_count": null,
   "metadata": {},
   "outputs": [],
   "source": [
    "# Hyperparameter tuning\n",
    "param_grid = {'n_neighbors': np.arange(1, 15)}\n",
    "knn = GridSearchCV(KNeighborsClassifier(), param_grid, cv=5)\n",
    "knn.fit(X_train_scaled, y_train)\n",
    "\n",
    "# Evaluation\n",
    "y_pred_knn = knn.predict(X_test_scaled)\n",
    "print(f\"Best K: {knn.best_params_['n_neighbors']}\")\n",
    "print(f\"KNN Accuracy: {accuracy_score(y_test, y_pred_knn):.2f}\")\n",
    "print(classification_report(y_test, y_pred_knn, target_names=target_names))"
   ]
  },
  {
   "cell_type": "markdown",
   "metadata": {},
   "source": [
    "### Support Vector Machine"
   ]
  },
  {
   "cell_type": "code",
   "execution_count": null,
   "metadata": {},
   "outputs": [],
   "source": [
    "# Hyperparameter tuning\n",
    "param_grid = {'C': [0.1, 1, 10], 'gamma': ['scale', 'auto'], 'kernel': ['linear', 'rbf']}\n",
    "svm = GridSearchCV(SVC(), param_grid, cv=5)\n",
    "svm.fit(X_train_scaled, y_train)\n",
    "\n",
    "# Evaluation\n",
    "y_pred_svm = svm.predict(X_test_scaled)\n",
    "print(f\"Best Params: {svm.best_params_}\")\n",
    "print(f\"SVM Accuracy: {accuracy_score(y_test, y_pred_svm):.2f}\")\n",
    "print(classification_report(y_test, y_pred_svm, target_names=target_names))"
   ]
  },
  {
   "cell_type": "markdown",
   "metadata": {},
   "source": [
    "## Step 5: Interactive 3D Visualization"
   ]
  },
  {
   "cell_type": "markdown",
   "metadata": {},
   "source": [
    "### True Labels"
   ]
  },
  {
   "cell_type": "code",
   "execution_count": null,
   "metadata": {},
   "outputs": [],
   "source": [
    "# Create interactive plot\n",
    "fig = px.scatter_3d(\n",
    "    x=X_test_pca[:,0], y=X_test_pca[:,1], z=X_test_pca[:,2],\n",
    "    color=y_test,\n",
    "    color_continuous_scale=px.colors.sequential.Viridis,\n",
    "    labels={'color': 'Species'},\n",
    "    title=\"True Labels in 3D PCA Space\"\n",
    ")\n",
    "fig.update_layout(\n",
    "    scene=dict(\n",
    "        xaxis_title='PC1',\n",
    "        yaxis_title='PC2',\n",
    "        zaxis_title='PC3'\n",
    "    )\n",
    ")\n",
    "fig.show()"
   ]
  },
  {
   "cell_type": "markdown",
   "metadata": {},
   "source": [
    "### KNN Predictions"
   ]
  },
  {
   "cell_type": "code",
   "execution_count": null,
   "metadata": {},
   "outputs": [],
   "source": [
    "fig = go.Figure()\n",
    "\n",
    "# Correct predictions\n",
    "correct = (y_pred_knn == y_test)\n",
    "fig.add_trace(go.Scatter3d(\n",
    "    x=X_test_pca[correct, 0], y=X_test_pca[correct, 1], z=X_test_pca[correct, 2],\n",
    "    mode='markers',\n",
    "    marker=dict(size=5, color='green', opacity=0.8),\n",
    "    name='Correct'\n",
    "))\n",
    "\n",
    "# Incorrect predictions\n",
    "fig.add_trace(go.Scatter3d(\n",
    "    x=X_test_pca[~correct, 0], y=X_test_pca[~correct, 1], z=X_test_pca[~correct, 2],\n",
    "    mode='markers',\n",
    "    marker=dict(size=8, color='red', symbol='x', opacity=0.8),\n",
    "    name='Incorrect'\n",
    "))\n",
    "\n",
    "fig.update_layout(\n",
    "    title='KNN Predictions (Green=Correct, Red=Incorrect)',\n",
    "    scene=dict(xaxis_title='PC1', yaxis_title='PC2', zaxis_title='PC3')\n",
    ")\n",
    "fig.show()"
   ]
  },
  {
   "cell_type": "markdown",
   "metadata": {},
   "source": [
    "### SVM Predictions"
   ]
  },
  {
   "cell_type": "code",
   "execution_count": null,
   "metadata": {},
   "outputs": [],
   "source": [
    "fig = go.Figure()\n",
    "\n",
    "correct = (y_pred_svm == y_test)\n",
    "fig.add_trace(go.Scatter3d(\n",
    "    x=X_test_pca[correct, 0], y=X_test_pca[correct, 1], z=X_test_pca[correct, 2],\n",
    "    mode='markers',\n",
    "    marker=dict(size=5, color='blue', opacity=0.8),\n",
    "    name='Correct'\n",
    "))\n",
    "\n",
    "fig.add_trace(go.Scatter3d(\n",
    "    x=X_test_pca[~correct, 0], y=X_test_pca[~correct, 1], z=X_test_pca[~correct, 2],\n",
    "    mode='markers',\n",
    "    marker=dict(size=8, color='orange', symbol='x', opacity=0.8),\n",
    "    name='Incorrect'\n",
    "))\n",
    "\n",
    "fig.update_layout(\n",
    "    title='SVM Predictions (Blue=Correct, Orange=Incorrect)',\n",
    "    scene=dict(xaxis_title='PC1', yaxis_title='PC2', zaxis_title='PC3')\n",
    ")\n",
    "fig.show()"
   ]
  },
  {
   "cell_type": "markdown",
   "metadata": {},
   "source": [
    "## Key Features:\n",
    "1. **Interactive 3D Plots**: Rotate/zoom using mouse\n",
    "2. **Color Coding**: \n",
    "   - True labels: Viridis color scale\n",
    "   - Correct/incorrect predictions: Green/Red (KNN), Blue/Orange (SVM)\n",
    "3. **Performance Metrics**: Accuracy + classification reports\n",
    "4. **Hyperparameter Tuning**: GridSearchCV for both algorithms"
   ]
  }
 ],
 "metadata": {
  "kernelspec": {
   "display_name": "Python 3",
   "language": "python",
   "name": "python3"
  },
  "language_info": {
   "codemirror_mode": {
    "name": "ipython",
    "version": 3
   },
   "file_extension": ".py",
   "mimetype": "text/x-python",
   "name": "python",
   "nbconvert_exporter": "python",
   "pygments_lexer": "ipython3",
   "version": "3.9.6"
  }
 },
 "nbformat": 4,
 "nbformat_minor": 4
}