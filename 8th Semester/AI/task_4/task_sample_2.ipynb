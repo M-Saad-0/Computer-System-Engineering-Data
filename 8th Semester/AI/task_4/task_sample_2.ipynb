{
 "cells": [
  {
   "cell_type": "code",
   "execution_count": null,
   "metadata": {},
   "outputs": [],
   "source": [
    "import numpy as np\n",
    "import matplotlib.pyplot as plt\n",
    "from matplotlib import animation\n",
    "from mpl_toolkits.mplot3d import Axes3D\n",
    "from IPython.display import HTML"
   ]
  },
  {
   "cell_type": "code",
   "execution_count": null,
   "metadata": {},
   "outputs": [],
   "source": [
    "# Define our function and its gradient\n",
    "def f(x, y):\n",
    "    return x**2 + y**2\n",
    "\n",
    "def gradient(x, y):\n",
    "    return np.array([2*x, 2*y])"
   ]
  },
  {
   "cell_type": "code",
   "execution_count": null,
   "metadata": {},
   "outputs": [],
   "source": [
    "# Gradient descent parameters\n",
    "learning_rate = 0.1\n",
    "max_iterations = 50\n",
    "xy_start = np.array([3.0, 4.0])  # Initial point\n",
    "\n",
    "# Store optimization path\n",
    "history = [xy_start.copy()]\n",
    "current_xy = xy_start.copy()\n",
    "\n",
    "for _ in range(max_iterations):\n",
    "    grad = gradient(*current_xy)\n",
    "    current_xy = current_xy - learning_rate * grad\n",
    "    history.append(current_xy.copy())\n",
    "\n",
    "history = np.array(history)"
   ]
  },
  {
   "cell_type": "code",
   "execution_count": null,
   "metadata": {},
   "outputs": [],
   "source": [
    "# Set up 3D plot\n",
    "fig = plt.figure(figsize=(10, 7))\n",
    "ax = fig.add_subplot(111, projection='3d')\n",
    "\n",
    "# Create grid for surface plot\n",
    "x = np.linspace(-5, 5, 100)\n",
    "y = np.linspace(-5, 5, 100)\n",
    "X, Y = np.meshgrid(x, y)\n",
    "Z = f(X, Y)\n",
    "\n",
    "# Plot surface\n",
    "ax.plot_surface(X, Y, Z, cmap='viridis', alpha=0.6)\n",
    "ax.set_xlabel('x')\n",
    "ax.set_ylabel('y')\n",
    "ax.set_zlabel('f(x,y)')\n",
    "\n",
    "# Plot initial point\n",
    "scat = ax.scatter([], [], [], color='red', s=50)\n",
    "line, = ax.plot([], [], [], color='black', lw=1)\n",
    "\n",
    "# Set viewing angle\n",
    "ax.view_init(elev=30, azim=45)\n",
    "plt.close()"
   ]
  },
  {
   "cell_type": "code",
   "execution_count": null,
   "metadata": {},
   "outputs": [],
   "source": [
    "# Animation function\n",
    "def animate(i):\n",
    "    ax.set_title(f'Iteration {i}')\n",
    "    scat._offsets3d = (history[i,0:1], history[i,1:2], f(*history[i]))\n",
    "    line.set_data(history[:i,0], history[:i,1])\n",
    "    line.set_3d_properties(f(history[:i,0], history[:i,1]))\n",
    "    return scat, line\n",
    "\n",
    "# Create animation\n",
    "ani = animation.FuncAnimation(fig, animate, frames=len(history), \n",
    "                               interval=200, blit=True)\n",
    "\n",
    "# Display in notebook\n",
    "HTML(ani.to_html5_video())"
   ]
  }
 ],
 "metadata": {
  "kernelspec": {
   "display_name": "Python 3",
   "language": "python",
   "name": "python3"
  },
  "language_info": {
   "codemirror_mode": {
    "name": "ipython",
    "version": 3
   },
   "file_extension": ".py",
   "mimetype": "text/x-python",
   "name": "python",
   "nbconvert_exporter": "python",
   "pygments_lexer": "ipython3",
   "version": "3.8.5"
  }
 },
 "nbformat": 4,
 "nbformat_minor": 4
}