{
 "cells": [
  {
   "cell_type": "markdown",
   "metadata": {},
   "source": [
    "# One-Way and Two-Way ANOVA Tests Lab Manual\n",
    "## Objectives\n",
    "### One-Way ANOVA\n",
    "- To test if there is a statistically significant difference in the means of three or more independent groups.\n",
    "- To apply the ANOVA test to compare the means of different groups and understand the implications of the test result.\n",
    "\n",
    "### Two-Way ANOVA\n",
    "- To study the interaction between two independent variables on a dependent variable.\n",
    "- To determine if there is a significant difference in means across multiple levels of two factors (independent variables).\n",
    "- To investigate if there is an interaction effect between the two factors.\n"
   ]
  },
  {
   "cell_type": "markdown",
   "metadata": {},
   "source": [
    "## One-Way ANOVA\n",
    "### Task 1"
   ]
  },
  {
   "cell_type": "code",
   "execution_count": 1,
   "metadata": {},
   "outputs": [
    {
     "name": "stdout",
     "output_type": "stream",
     "text": [
      "F-Statistic: 25.2754555198285\n",
      "P-Value: 4.9852350460386985e-05\n"
     ]
    }
   ],
   "source": [
    "import scipy.stats as stats\n",
    "import pandas as pd\n",
    "\n",
    "# Data\n",
    "club_1 = [254, 263, 241, 237, 251]\n",
    "club_2 = [234, 218, 235, 227, 216]\n",
    "club_3 = [200, 222, 197, 206, 204]\n",
    "\n",
    "# Perform One-Way ANOVA\n",
    "f_statistic, p_value = stats.f_oneway(club_1, club_2, club_3)\n",
    "print('F-Statistic:', f_statistic)\n",
    "print('P-Value:', p_value)\n"
   ]
  },
  {
   "cell_type": "markdown",
   "metadata": {},
   "source": [
    "### Task 2"
   ]
  },
  {
   "cell_type": "code",
   "execution_count": 2,
   "metadata": {},
   "outputs": [
    {
     "name": "stdout",
     "output_type": "stream",
     "text": [
      "F-Statistic: 13.695652173913043\n",
      "P-Value: 0.0004131507974085394\n"
     ]
    }
   ],
   "source": [
    "# Data\n",
    "group_1 = [0, 6, 2, 4, 3, 3]\n",
    "group_2 = [1, 4, 3, 2, 0, 2]\n",
    "group_3 = [5, 6, 10, 8, 6, 7]\n",
    "\n",
    "# Perform One-Way ANOVA\n",
    "f_statistic, p_value = stats.f_oneway(group_1, group_2, group_3)\n",
    "print('F-Statistic:', f_statistic)\n",
    "print('P-Value:', p_value)\n"
   ]
  },
  {
   "cell_type": "markdown",
   "metadata": {},
   "source": [
    "### Task 3"
   ]
  },
  {
   "cell_type": "code",
   "execution_count": 3,
   "metadata": {},
   "outputs": [
    {
     "name": "stdout",
     "output_type": "stream",
     "text": [
      "F-Statistic: 10.112299465240644\n",
      "P-Value: 0.0026666274874463545\n"
     ]
    }
   ],
   "source": [
    "# Data\n",
    "method_1 = [78, 84, 76, 82, 75]\n",
    "method_2 = [85, 88, 80, 89, 87]\n",
    "method_3 = [92, 90, 85, 91, 86]\n",
    "\n",
    "# Perform One-Way ANOVA\n",
    "f_statistic, p_value = stats.f_oneway(method_1, method_2, method_3)\n",
    "print('F-Statistic:', f_statistic)\n",
    "print('P-Value:', p_value)\n"
   ]
  },
  {
   "cell_type": "markdown",
   "metadata": {},
   "source": [
    "### Task 4"
   ]
  },
  {
   "cell_type": "code",
   "execution_count": 4,
   "metadata": {},
   "outputs": [
    {
     "name": "stdout",
     "output_type": "stream",
     "text": [
      "F-Statistic: 42.509803921568555\n",
      "P-Value: 3.5803904258417525e-06\n"
     ]
    }
   ],
   "source": [
    "# Data\n",
    "fertilizer_a = [14, 16, 15, 13, 14]\n",
    "fertilizer_b = [18, 17, 19, 18, 20]\n",
    "fertilizer_c = [22, 24, 21, 23, 20]\n",
    "\n",
    "# Perform One-Way ANOVA\n",
    "f_statistic, p_value = stats.f_oneway(fertilizer_a, fertilizer_b, fertilizer_c)\n",
    "print('F-Statistic:', f_statistic)\n",
    "print('P-Value:', p_value)\n"
   ]
  }
 ],
 "metadata": {
  "kernelspec": {
   "display_name": "Python 3",
   "language": "python",
   "name": "python3"
  },
  "language_info": {
   "codemirror_mode": {
    "name": "ipython",
    "version": 3
   },
   "file_extension": ".py",
   "mimetype": "text/x-python",
   "name": "python",
   "nbconvert_exporter": "python",
   "pygments_lexer": "ipython3",
   "version": "3.12.6"
  }
 },
 "nbformat": 4,
 "nbformat_minor": 4
}
