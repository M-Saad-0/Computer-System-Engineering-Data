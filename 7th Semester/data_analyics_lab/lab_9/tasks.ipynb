{
 "cells": [
  {
   "cell_type": "markdown",
   "metadata": {},
   "source": [
    "## Task 1"
   ]
  },
  {
   "cell_type": "code",
   "execution_count": 1,
   "metadata": {},
   "outputs": [
    {
     "name": "stdout",
     "output_type": "stream",
     "text": [
      "F-Statistic: 9.130434782608695\n",
      "P-Value: 0.0038886517793827406\n",
      "F-Critical Value: 3.8852938346523946\n",
      "Reject the null hypothesis: Significant difference between groups.\n"
     ]
    }
   ],
   "source": [
    "import numpy as np\n",
    "from scipy.stats import f_oneway, f\n",
    "\n",
    "\n",
    "group1 = [0, 6, 2, 4, 3]\n",
    "group2 = [1, 4, 3, 2, 0]\n",
    "group3 = [5, 6, 10, 8, 6]\n",
    "\n",
    "\n",
    "f_statistic, p_value = f_oneway(group1, group2, group3)\n",
    "\n",
    "print(\"F-Statistic:\", f_statistic)\n",
    "print(\"P-Value:\", p_value)\n",
    "\n",
    "\n",
    "alpha = 0.05  \n",
    "dof_between = 3 - 1  \n",
    "dof_within = len(group1) + len(group2) + len(group3) - 3  \n",
    "\n",
    "f_critical = f.ppf(1 - alpha, dof_between, dof_within)\n",
    "print(\"F-Critical Value:\", f_critical)\n",
    "\n",
    "\n",
    "if f_statistic > f_critical:\n",
    "    print(\"Reject the null hypothesis: Significant difference between groups.\")\n",
    "else:\n",
    "    print(\"Fail to reject the null hypothesis: No significant difference between groups.\")\n"
   ]
  },
  {
   "cell_type": "markdown",
   "metadata": {},
   "source": [
    "# Task 2"
   ]
  },
  {
   "cell_type": "code",
   "execution_count": 2,
   "metadata": {},
   "outputs": [
    {
     "name": "stdout",
     "output_type": "stream",
     "text": [
      "F-Statistic: 25.2754555198285\n",
      "P-Value: 4.9852350460386985e-05\n",
      "F-Critical Value: 3.8852938346523946\n",
      "Reject the null hypothesis: Significant difference between groups.\n"
     ]
    }
   ],
   "source": [
    "import numpy as np\n",
    "from scipy.stats import f_oneway, f\n",
    "\n",
    "\n",
    "group1 = [254, 263, 241, 237, 251]\n",
    "group2 = [234, 218, 235, 227, 216]\n",
    "group3 = [200, 222, 197, 206, 204]\n",
    "\n",
    "\n",
    "f_statistic, p_value = f_oneway(group1, group2, group3)\n",
    "\n",
    "print(\"F-Statistic:\", f_statistic)\n",
    "print(\"P-Value:\", p_value)\n",
    "\n",
    "\n",
    "alpha = 0.05  \n",
    "dof_between = 3 - 1  \n",
    "dof_within = len(group1) + len(group2) + len(group3) - 3  \n",
    "\n",
    "f_critical = f.ppf(1 - alpha, dof_between, dof_within)\n",
    "print(\"F-Critical Value:\", f_critical)\n",
    "\n",
    "\n",
    "if f_statistic > f_critical:\n",
    "    print(\"Reject the null hypothesis: Significant difference between groups.\")\n",
    "else:\n",
    "    print(\"Fail to reject the null hypothesis: No significant difference between groups.\")\n"
   ]
  }
 ],
 "metadata": {
  "kernelspec": {
   "display_name": "Python 3",
   "language": "python",
   "name": "python3"
  },
  "language_info": {
   "codemirror_mode": {
    "name": "ipython",
    "version": 3
   },
   "file_extension": ".py",
   "mimetype": "text/x-python",
   "name": "python",
   "nbconvert_exporter": "python",
   "pygments_lexer": "ipython3",
   "version": "3.12.6"
  }
 },
 "nbformat": 4,
 "nbformat_minor": 2
}
