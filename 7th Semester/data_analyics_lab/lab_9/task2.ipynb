{
 "cells": [
  {
   "cell_type": "code",
   "execution_count": 38,
   "id": "0a4e7e57",
   "metadata": {},
   "outputs": [],
   "source": [
    "import pandas as pd\n",
    "import statsmodels.api as sm\n",
    "from statsmodels.formula.api import ols"
   ]
  },
  {
   "cell_type": "code",
   "execution_count": null,
   "id": "97ec9c31",
   "metadata": {},
   "outputs": [
    {
     "name": "stdout",
     "output_type": "stream",
     "text": [
      "Question 1 - Two-Way ANOVA Results:\n",
      "                        sum_sq   df         F    PR(>F)\n",
      "C(Diet)               2.111111  2.0  0.322034  0.732690\n",
      "C(Exercise)          18.111111  2.0  2.762712  0.116014\n",
      "C(Diet):C(Exercise)   0.555556  4.0  0.042373  0.995951\n",
      "Residual             29.500000  9.0       NaN       NaN\n"
     ]
    }
   ],
   "source": [
    "# Question 1: Diet Type and Exercise Type on Weight Loss\n",
    "data_q1 = {\n",
    "    'Diet': ['Diet 1'] * 6 + ['Diet 2'] * 6 + ['Diet 3'] * 6,\n",
    "    'Exercise': ['No Exercise'] * 2 + ['Cardio'] * 2 + ['Strength'] * 2 +\n",
    "                ['No Exercise'] * 2 + ['Cardio'] * 2 + ['Strength'] * 2 +\n",
    "                ['No Exercise'] * 2 + ['Cardio'] * 2 + ['Strength'] * 2,\n",
    "    'WeightLoss': [1, 4, 3, 2, 5, 4, 2, 5, 4, 1, 6, 4, 1, 6, 3, 3, 5, 6]\n",
    "}\n",
    "\n",
    "df_q1 = pd.DataFrame(data_q1)\n",
    "\n",
    "# Perform Two-Way ANOVA\n",
    "model_q1 = ols('WeightLoss ~ C(Diet) + C(Exercise) + C(Diet):C(Exercise)', data=df_q1).fit()\n",
    "anova_table_q1 = sm.stats.anova_lm(model_q1, typ=2)\n",
    "\n",
    "\n",
    "anova_table_q1"
   ]
  },
  {
   "cell_type": "code",
   "execution_count": 40,
   "id": "1b835d78",
   "metadata": {},
   "outputs": [
    {
     "data": {
      "text/html": [
       "<div>\n",
       "<style scoped>\n",
       "    .dataframe tbody tr th:only-of-type {\n",
       "        vertical-align: middle;\n",
       "    }\n",
       "\n",
       "    .dataframe tbody tr th {\n",
       "        vertical-align: top;\n",
       "    }\n",
       "\n",
       "    .dataframe thead th {\n",
       "        text-align: right;\n",
       "    }\n",
       "</style>\n",
       "<table border=\"1\" class=\"dataframe\">\n",
       "  <thead>\n",
       "    <tr style=\"text-align: right;\">\n",
       "      <th></th>\n",
       "      <th>sum_sq</th>\n",
       "      <th>df</th>\n",
       "      <th>F</th>\n",
       "      <th>PR(&gt;F)</th>\n",
       "    </tr>\n",
       "  </thead>\n",
       "  <tbody>\n",
       "    <tr>\n",
       "      <th>C(Student)</th>\n",
       "      <td>1.500000e+01</td>\n",
       "      <td>3.0</td>\n",
       "      <td>7.420394e+29</td>\n",
       "      <td>4.283090e-89</td>\n",
       "    </tr>\n",
       "    <tr>\n",
       "      <th>C(Day)</th>\n",
       "      <td>3.200000e+01</td>\n",
       "      <td>2.0</td>\n",
       "      <td>2.374526e+30</td>\n",
       "      <td>2.016661e-90</td>\n",
       "    </tr>\n",
       "    <tr>\n",
       "      <th>Residual</th>\n",
       "      <td>4.042912e-29</td>\n",
       "      <td>6.0</td>\n",
       "      <td>NaN</td>\n",
       "      <td>NaN</td>\n",
       "    </tr>\n",
       "  </tbody>\n",
       "</table>\n",
       "</div>"
      ],
      "text/plain": [
       "                  sum_sq   df             F        PR(>F)\n",
       "C(Student)  1.500000e+01  3.0  7.420394e+29  4.283090e-89\n",
       "C(Day)      3.200000e+01  2.0  2.374526e+30  2.016661e-90\n",
       "Residual    4.042912e-29  6.0           NaN           NaN"
      ]
     },
     "execution_count": 40,
     "metadata": {},
     "output_type": "execute_result"
    }
   ],
   "source": [
    "import pandas as pd\n",
    "import numpy as np\n",
    "import statsmodels.api as sm\n",
    "from statsmodels.formula.api import ols\n",
    "\n",
    "# Question 2: Study Hours for Students A, B, C, D across Days\n",
    "data_q2 = {\n",
    "    'Student': ['A', 'B', 'C', 'D'] * 3,\n",
    "    'Day': ['Monday'] * 4 + ['Tuesday'] * 4 + ['Wednesday'] * 4,\n",
    "    'StudyHours': [2, 3, 4, 5, 4, 5, 6, 7, 6, 7, 8, 9]\n",
    "}\n",
    "\n",
    "# Convert to DataFrame\n",
    "df_q2 = pd.DataFrame(data_q2)\n",
    "\n",
    "\n",
    "# Perform Two-Way ANOVA (without interaction term if data is insufficient)\n",
    "model_q2 = ols('StudyHours ~ C(Student) + C(Day)', data=df_q2).fit()\n",
    "\n",
    "# Perform ANOVA\n",
    "anova_table_q2 = sm.stats.anova_lm(model_q2, typ=2)\n",
    "\n",
    "# Display Results\n",
    "anova_table_q2"
   ]
  },
  {
   "cell_type": "code",
   "execution_count": 41,
   "id": "2f81d645",
   "metadata": {},
   "outputs": [
    {
     "name": "stdout",
     "output_type": "stream",
     "text": [
      "Question 3 - Two-Way ANOVA Results with Synthetic Data:\n"
     ]
    },
    {
     "data": {
      "text/html": [
       "<div>\n",
       "<style scoped>\n",
       "    .dataframe tbody tr th:only-of-type {\n",
       "        vertical-align: middle;\n",
       "    }\n",
       "\n",
       "    .dataframe tbody tr th {\n",
       "        vertical-align: top;\n",
       "    }\n",
       "\n",
       "    .dataframe thead th {\n",
       "        text-align: right;\n",
       "    }\n",
       "</style>\n",
       "<table border=\"1\" class=\"dataframe\">\n",
       "  <thead>\n",
       "    <tr style=\"text-align: right;\">\n",
       "      <th></th>\n",
       "      <th>sum_sq</th>\n",
       "      <th>df</th>\n",
       "      <th>F</th>\n",
       "      <th>PR(&gt;F)</th>\n",
       "    </tr>\n",
       "  </thead>\n",
       "  <tbody>\n",
       "    <tr>\n",
       "      <th>C(Product)</th>\n",
       "      <td>1965.407407</td>\n",
       "      <td>2.0</td>\n",
       "      <td>0.052476</td>\n",
       "      <td>0.949022</td>\n",
       "    </tr>\n",
       "    <tr>\n",
       "      <th>C(Method)</th>\n",
       "      <td>119371.629630</td>\n",
       "      <td>2.0</td>\n",
       "      <td>3.187210</td>\n",
       "      <td>0.065320</td>\n",
       "    </tr>\n",
       "    <tr>\n",
       "      <th>C(Product):C(Method)</th>\n",
       "      <td>3126.814815</td>\n",
       "      <td>4.0</td>\n",
       "      <td>0.041743</td>\n",
       "      <td>0.996381</td>\n",
       "    </tr>\n",
       "    <tr>\n",
       "      <th>Residual</th>\n",
       "      <td>337080.000000</td>\n",
       "      <td>18.0</td>\n",
       "      <td>NaN</td>\n",
       "      <td>NaN</td>\n",
       "    </tr>\n",
       "  </tbody>\n",
       "</table>\n",
       "</div>"
      ],
      "text/plain": [
       "                             sum_sq    df         F    PR(>F)\n",
       "C(Product)              1965.407407   2.0  0.052476  0.949022\n",
       "C(Method)             119371.629630   2.0  3.187210  0.065320\n",
       "C(Product):C(Method)    3126.814815   4.0  0.041743  0.996381\n",
       "Residual              337080.000000  18.0       NaN       NaN"
      ]
     },
     "execution_count": 41,
     "metadata": {},
     "output_type": "execute_result"
    }
   ],
   "source": [
    "import numpy as np\n",
    "\n",
    "# Generate synthetic data by adding variability\n",
    "np.random.seed(42)\n",
    "data_q3_extended = {\n",
    "    'Product': ['A'] * 9 + ['B'] * 9 + ['C'] * 9,\n",
    "    'Method': ['Method 1', 'Method 2', 'Method 3'] * 9,\n",
    "    'Sales': [2500, 2300, 2400, 2200, 2100, 2150, 2300, 2200, 2250] * 3\n",
    "}\n",
    "\n",
    "# Add random noise to Sales\n",
    "data_q3_extended['Sales'] = [\n",
    "    sale + np.random.randint(-100, 100) for sale in data_q3_extended['Sales']\n",
    "]\n",
    "\n",
    "# Create DataFrame\n",
    "df_q3_extended = pd.DataFrame(data_q3_extended)\n",
    "\n",
    "# Perform Two-Way ANOVA with interaction term\n",
    "model_q3_ext = ols('Sales ~ C(Product) + C(Method) + C(Product):C(Method)', data=df_q3_extended).fit()\n",
    "anova_table_q3_ext = sm.stats.anova_lm(model_q3_ext, typ=2)\n",
    "\n",
    "# Print Results\n",
    "print(\"Question 3 - Two-Way ANOVA Results with Synthetic Data:\")\n",
    "anova_table_q3_ext\n"
   ]
  },
  {
   "cell_type": "code",
   "execution_count": 42,
   "id": "3b476585",
   "metadata": {},
   "outputs": [
    {
     "name": "stdout",
     "output_type": "stream",
     "text": [
      "Question 4 - Two-Way ANOVA Results:\n",
      "                                  sum_sq   df             F    PR(>F)\n",
      "C(Temperature)              2.800000e+01  2.0  4.941176e+00  0.035632\n",
      "C(Humidity)                 1.900000e+01  2.0  3.352941e+00  0.081623\n",
      "C(Temperature):C(Humidity)  3.050262e-29  4.0  2.691408e-30  1.000000\n",
      "Residual                    2.550000e+01  9.0           NaN       NaN\n"
     ]
    }
   ],
   "source": [
    "# Question 4: Temperature and Humidity on Plant Growth\n",
    "data_q4 = {\n",
    "    'Temperature': ['Low'] * 6 + ['Medium'] * 6 + ['High'] * 6,\n",
    "    'Humidity': ['Low', 'Medium', 'High'] * 6,\n",
    "    'Growth': [5, 6, 7, 7, 8, 10, 6, 7, 8, 8, 9, 11, 8, 9, 10, 10, 11, 13]\n",
    "}\n",
    "\n",
    "df_q4 = pd.DataFrame(data_q4)\n",
    "\n",
    "# Perform Two-Way ANOVA\n",
    "model_q4 = ols('Growth ~ C(Temperature) + C(Humidity) + C(Temperature):C(Humidity)', data=df_q4).fit()\n",
    "anova_table_q4 = sm.stats.anova_lm(model_q4, typ=2)\n",
    "\n",
    "print(\"Question 4 - Two-Way ANOVA Results:\")\n",
    "anova_table_q4"
   ]
  }
 ],
 "metadata": {
  "kernelspec": {
   "display_name": "Python 3",
   "language": "python",
   "name": "python3"
  },
  "language_info": {
   "codemirror_mode": {
    "name": "ipython",
    "version": 3
   },
   "file_extension": ".py",
   "mimetype": "text/x-python",
   "name": "python",
   "nbconvert_exporter": "python",
   "version": "3.8.10"
  }
 },
 "nbformat": 4,
 "nbformat_minor": 5
}
