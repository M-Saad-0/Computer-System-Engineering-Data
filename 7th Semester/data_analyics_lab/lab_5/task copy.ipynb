{
 "cells": [
  {
   "cell_type": "markdown",
   "metadata": {},
   "source": [
    "##Task 1\n",
    "Write a function to compute  the probability of an event given the number of favourable outcomes and total outcomes."
   ]
  },
  {
   "cell_type": "code",
   "execution_count": 14,
   "metadata": {},
   "outputs": [
    {
     "name": "stdout",
     "output_type": "stream",
     "text": [
      "Probability of an event: 0.3\n"
     ]
    }
   ],
   "source": [
    "import math\n",
    "from scipy.stats import binom, hypergeom, geom, poisson\n",
    "import numpy as np\n",
    "\n",
    "\n",
    "def probability(favorable_outcomes, total_outcomes):\n",
    "    return favorable_outcomes / total_outcomes\n",
    "\n",
    "\n",
    "print(\"Probability of an event:\", probability(3, 10))"
   ]
  },
  {
   "cell_type": "markdown",
   "metadata": {},
   "source": [
    "##Task 2\n",
    "Write a fucntion to compute the probability of two independent events occurring"
   ]
  },
  {
   "cell_type": "code",
   "execution_count": 10,
   "metadata": {},
   "outputs": [
    {
     "name": "stdout",
     "output_type": "stream",
     "text": [
      "Probability of two independent events: 0.2\n"
     ]
    }
   ],
   "source": [
    "def independent_events_probability(p_a, p_b):\n",
    "    return p_a * p_b\n",
    "\n",
    "\n",
    "print(\"Probability of two independent events:\", independent_events_probability(0.5, 0.4))\n",
    "\n"
   ]
  },
  {
   "cell_type": "markdown",
   "metadata": {},
   "source": [
    "##Task 3\n",
    "Write a function to computer conditional probability of event A given event B."
   ]
  },
  {
   "cell_type": "code",
   "execution_count": 11,
   "metadata": {},
   "outputs": [
    {
     "name": "stdout",
     "output_type": "stream",
     "text": [
      "Conditional probability of A given B: 0.5\n"
     ]
    }
   ],
   "source": [
    "def conditional_probability(p_a_and_b, p_b):\n",
    "    return p_a_and_b / p_b\n",
    "\n",
    "\n",
    "print(\"Conditional probability of A given B:\", conditional_probability(0.2, 0.4))\n"
   ]
  },
  {
   "cell_type": "markdown",
   "metadata": {},
   "source": [
    "##Task 4\n",
    "Write a function to compute the total probability of an event A given events B1, B2, B3, ..... Bn"
   ]
  },
  {
   "cell_type": "code",
   "execution_count": 12,
   "metadata": {},
   "outputs": [
    {
     "name": "stdout",
     "output_type": "stream",
     "text": [
      "Total probability of event A: 0.5599999999999999\n"
     ]
    }
   ],
   "source": [
    "def total_probability(probabilities_b, conditional_probabilities_a_given_b):\n",
    "    return sum(p_b * p_a_given_b for p_b, p_a_given_b in zip(probabilities_b, conditional_probabilities_a_given_b))\n",
    "\n",
    "\n",
    "probabilities_b = [0.3, 0.5, 0.2]\n",
    "conditional_probabilities_a_given_b = [0.8, 0.6, 0.1]\n",
    "print(\"Total probability of event A:\", total_probability(probabilities_b, conditional_probabilities_a_given_b))\n",
    "\n"
   ]
  },
  {
   "cell_type": "markdown",
   "metadata": {},
   "source": [
    "##Task 5\n",
    "Write a function to calculate the bionomial probability of getting exactly k successes in n trials "
   ]
  },
  {
   "cell_type": "code",
   "execution_count": 5,
   "metadata": {},
   "outputs": [
    {
     "name": "stdout",
     "output_type": "stream",
     "text": [
      "Binomial probability of 3 successes in 5 trials: 0.3124999999999998\n"
     ]
    }
   ],
   "source": [
    "\n",
    "def binomial_probability(n, k, p):\n",
    "    return binom.pmf(k, n, p)\n",
    "\n",
    "\n",
    "print(\"Binomial probability of 3 successes in 5 trials:\", binomial_probability(5, 3, 0.5))\n",
    "\n"
   ]
  },
  {
   "cell_type": "markdown",
   "metadata": {},
   "source": [
    "##Task 6\n",
    "Write a function to compute probability of drawing k successes in draws without replacement"
   ]
  },
  {
   "cell_type": "code",
   "execution_count": 6,
   "metadata": {},
   "outputs": [
    {
     "name": "stdout",
     "output_type": "stream",
     "text": [
      "Hypergeometric probability of 2 successes in 5 draws: 0.38738390092879255\n"
     ]
    }
   ],
   "source": [
    "def hypergeometric_probability(N, K, n, k):\n",
    "    return hypergeom.pmf(k, N, K, n)\n",
    "\n",
    "\n",
    "print(\"Hypergeometric probability of 2 successes in 5 draws:\", hypergeometric_probability(20, 7, 5, 2))\n",
    "\n"
   ]
  },
  {
   "cell_type": "markdown",
   "metadata": {},
   "source": [
    "##Task 7\n",
    "Write a function to compute the probability of the first success on the k-th trial in a sequence of Bernouli trials"
   ]
  },
  {
   "cell_type": "code",
   "execution_count": 7,
   "metadata": {},
   "outputs": [
    {
     "name": "stdout",
     "output_type": "stream",
     "text": [
      "Geometric probability of first success on the 3rd trial: 0.125\n"
     ]
    }
   ],
   "source": [
    "def geometric_probability(k, p):\n",
    "    return geom.pmf(k, p)\n",
    "\n",
    "\n",
    "print(\"Geometric probability of first success on the 3rd trial:\", geometric_probability(3, 0.5))\n",
    "\n"
   ]
  },
  {
   "cell_type": "markdown",
   "metadata": {},
   "source": [
    "##Task 8\n",
    "Write a fucntion to compute the Poisson probability of observing k events in a fixed intervals with a given average of lamda."
   ]
  },
  {
   "cell_type": "code",
   "execution_count": 8,
   "metadata": {},
   "outputs": [
    {
     "name": "stdout",
     "output_type": "stream",
     "text": [
      "Poisson probability of observing 3 events: 0.21376301724973648\n"
     ]
    }
   ],
   "source": [
    "def poisson_probability(k, lam):\n",
    "    return poisson.pmf(k, lam)\n",
    "\n",
    "\n",
    "print(\"Poisson probability of observing 3 events:\", poisson_probability(3, 2.5))"
   ]
  }
 ],
 "metadata": {
  "kernelspec": {
   "display_name": "Python 3",
   "language": "python",
   "name": "python3"
  },
  "language_info": {
   "codemirror_mode": {
    "name": "ipython",
    "version": 3
   },
   "file_extension": ".py",
   "mimetype": "text/x-python",
   "name": "python",
   "nbconvert_exporter": "python",
   "pygments_lexer": "ipython3",
   "version": "3.12.6"
  }
 },
 "nbformat": 4,
 "nbformat_minor": 2
}
