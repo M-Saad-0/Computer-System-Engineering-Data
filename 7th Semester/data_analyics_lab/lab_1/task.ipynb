{
 "cells": [
  {
   "cell_type": "markdown",
   "metadata": {},
   "source": [
    "# Lab 1: Tasks (NumPy)"
   ]
  },
  {
   "cell_type": "markdown",
   "metadata": {},
   "source": [
    "## Task 1: Basics of NumPy Arrays"
   ]
  },
  {
   "cell_type": "code",
   "execution_count": null,
   "metadata": {},
   "outputs": [],
   "source": [
    "import numpy as np"
   ]
  },
  {
   "cell_type": "code",
   "execution_count": null,
   "metadata": {},
   "outputs": [],
   "source": [
    "# 1. Create a 1D NumPy array with numbers from 1 to 20.\n",
    "arr_1d = np.arange(1, 21)\n",
    "arr_1d"
   ]
  },
  {
   "cell_type": "code",
   "execution_count": null,
   "metadata": {},
   "outputs": [],
   "source": [
    "# 2. Create a 2D array of shape (3, 5) using random integers between 10 and 50.\n",
    "arr_2d = np.random.randint(10, 50, size=(3, 5))\n",
    "arr_2d"
   ]
  },
  {
   "cell_type": "code",
   "execution_count": null,
   "metadata": {},
   "outputs": [],
   "source": [
    "# 3. Extract the first and third rows of the 2D array.\n",
    "extracted_rows = arr_2d[[0, 2], :]\n",
    "extracted_rows"
   ]
  },
  {
   "cell_type": "code",
   "execution_count": null,
   "metadata": {},
   "outputs": [],
   "source": [
    "# 4. Calculate the sum, mean, minimum, and maximum of the entire 2D array.\n",
    "total_sum = arr_2d.sum()\n",
    "mean_value = arr_2d.mean()\n",
    "min_value = arr_2d.min()\n",
    "max_value = arr_2d.max()\n",
    "total_sum, mean_value, min_value, max_value"
   ]
  },
  {
   "cell_type": "code",
   "execution_count": null,
   "metadata": {},
   "outputs": [],
   "source": [
    "# 5. Reshape the 1D array into a 4x5 matrix.\n",
    "reshaped_1d = arr_1d.reshape(4, 5)\n",
    "reshaped_1d"
   ]
  },
  {
   "cell_type": "markdown",
   "metadata": {},
   "source": [
    "## Task 2: Element-wise Operations and Array Manipulations"
   ]
  },
  {
   "cell_type": "code",
   "execution_count": null,
   "metadata": {},
   "outputs": [],
   "source": [
    "# 1. Create two random 3x3 matrices.\n",
    "matrix_a = np.random.rand(3, 3)\n",
    "matrix_b = np.random.rand(3, 3)\n",
    "matrix_a, matrix_b"
   ]
  },
  {
   "cell_type": "code",
   "execution_count": null,
   "metadata": {},
   "outputs": [],
   "source": [
    "# 2. Perform element-wise addition, subtraction, multiplication, and division.\n",
    "add_matrices = matrix_a + matrix_b\n",
    "subtract_matrices = matrix_a - matrix_b\n",
    "multiply_matrices = matrix_a * matrix_b\n",
    "divide_matrices = matrix_a / matrix_b\n",
    "add_matrices, subtract_matrices, multiply_matrices, divide_matrices"
   ]
  },
  {
   "cell_type": "code",
   "execution_count": null,
   "metadata": {},
   "outputs": [],
   "source": [
    "# 3. Multiply one of the matrices by a scalar (e.g., multiply by 5).\n",
    "matrix_a_scaled = matrix_a * 5\n",
    "matrix_a_scaled"
   ]
  },
  {
   "cell_type": "code",
   "execution_count": null,
   "metadata": {},
   "outputs": [],
   "source": [
    "# 4. Transpose one of the matrices.\n",
    "matrix_a_transpose = matrix_a.T\n",
    "matrix_a_transpose"
   ]
  },
  {
   "cell_type": "code",
   "execution_count": null,
   "metadata": {},
   "outputs": [],
   "source": [
    "# 5. Calculate the dot product of the two matrices using np.dot().\n",
    "dot_product = np.dot(matrix_a, matrix_b)\n",
    "dot_product"
   ]
  },
  {
   "cell_type": "markdown",
   "metadata": {},
   "source": [
    "## Task 3: Filtering and Boolean Indexing"
   ]
  },
  {
   "cell_type": "code",
   "execution_count": null,
   "metadata": {},
   "outputs": [],
   "source": [
    "# 1. Create a NumPy array of 15 random integers between 1 and 100.\n",
    "arr_random = np.random.randint(1, 100, 15)\n",
    "arr_random"
   ]
  },
  {
   "cell_type": "code",
   "execution_count": null,
   "metadata": {},
   "outputs": [],
   "source": [
    "# 2. Find all values greater than 50 and return their indices.\n",
    "indices_greater_than_50 = np.where(arr_random > 50)[0]\n",
    "indices_greater_than_50"
   ]
  },
  {
   "cell_type": "code",
   "execution_count": null,
   "metadata": {},
   "outputs": [],
   "source": [
    "# 3. Create a mask to filter out elements that are divisible by 3.\n",
    "divisible_by_3_mask = arr_random % 3 == 0\n",
    "filtered_elements = arr_random[divisible_by_3_mask]\n",
    "filtered_elements"
   ]
  },
  {
   "cell_type": "code",
   "execution_count": null,
   "metadata": {},
   "outputs": [],
   "source": [
    "# 4. Replace all values less than 20 in the array with -1.\n",
    "arr_random[arr_random < 20] = -1\n",
    "arr_random"
   ]
  },
  {
   "cell_type": "code",
   "execution_count": null,
   "metadata": {},
   "outputs": [],
   "source": [
    "# 5. Find the mean of all values greater than 50.\n",
    "mean_greater_than_50 = arr_random[arr_random > 50].mean()\n",
    "mean_greater_than_50"
   ]
  },
  {
   "cell_type": "markdown",
   "metadata": {},
   "source": [
    "## Task 4: Linear Algebra Operations"
   ]
  },
  {
   "cell_type": "code",
   "execution_count": null,
   "metadata": {},
   "outputs": [],
   "source": [
    "# 1. Create a random 4x4 matrix.\n",
    "matrix_4x4 = np.random.rand(4, 4)\n",
    "matrix_4x4"
   ]
  },
  {
   "cell_type": "code",
   "execution_count": null,
   "metadata": {},
   "outputs": [],
   "source": [
    "# 2. Compute the determinant.\n",
    "determinant = np.linalg.det(matrix_4x4)\n",
    "determinant"
   ]
  },
  {
   "cell_type": "code",
   "execution_count": null,
   "metadata": {},
   "outputs": [],
   "source": [
    "# 3. Compute the inverse.\n",
    "inverse_matrix = np.linalg.inv(matrix_4x4)\n",
    "inverse_matrix"
   ]
  },
  {
   "cell_type": "code",
   "execution_count": null,
   "metadata": {},
   "outputs": [],
   "source": [
    "# 4. Compute the eigenvalues and eigenvectors.\n",
    "eigenvalues, eigenvectors = np.linalg.eig(matrix_4x4)\n",
    "eigenvalues, eigenvectors"
   ]
  }
 ],
 "metadata": {
  "kernelspec": {
   "display_name": "Python 3",
   "language": "python",
   "name": "python3"
  },
  "language_info": {
   "name": "python",
   "version": "3.8"
  }
 },
 "nbformat": 4,
 "nbformat_minor": 4
}
