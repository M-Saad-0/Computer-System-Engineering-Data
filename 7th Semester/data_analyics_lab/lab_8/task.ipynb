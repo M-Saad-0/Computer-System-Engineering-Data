{
  "cells": [
    {
      "cell_type": "markdown",
      "metadata": {},
      "source": [
        "# Chi-Square Tests Lab Manual\n",
        "## Objective\n",
        "The objective of this lab is to explore the application of the Chi-Square test in determining the independence of categorical variables and the goodness of fit. Through these exercises, students will learn to formulate hypotheses, calculate expected frequencies, and interpret results to assess relationships and distributions."
      ]
    },
    {
      "cell_type": "markdown",
      "metadata": {},
      "source": [
        "## Question 1: Goodness of Fit - Are the frequencies of balls with different colors equal in our bag?"
      ]
    },
    {
      "cell_type": "code",
      "execution_count": 11,
      "metadata": {},
      "outputs": [
        {
          "name": "stdout",
          "output_type": "stream",
          "text": [
            "Chi2 Statistic: 26.666666666666668, P-Value: 6.914913279310525e-06\n"
          ]
        }
      ],
      "source": [
        "from scipy.stats import chisquare\n",
        "import numpy as np\n",
        "\n",
        "# Observed and expected frequencies\n",
        "observed_q1 = np.array([50, 30, 30, 10])\n",
        "expected_q1 = np.array([25, 25, 25, 25]) * sum(observed_q1) / 100\n",
        "\n",
        "# Chi-square test\n",
        "chi2_stat_q1, p_value_q1 = chisquare(f_obs=observed_q1, f_exp=expected_q1)\n",
        "print(f\"Chi2 Statistic: {chi2_stat_q1}, P-Value: {p_value_q1}\")"
      ]
    },
    {
      "cell_type": "markdown",
      "metadata": {},
      "source": [
        "## Question 2: Independence - Are support levels for 'None,' 'Obama,' and 'McCain' independent of gender?"
      ]
    },
    {
      "cell_type": "code",
      "execution_count": 12,
      "metadata": {},
      "outputs": [
        {
          "name": "stdout",
          "output_type": "stream",
          "text": [
            "Chi2 Statistic: 0.3407530684418557, P-Value: 0.843347207721\n"
          ]
        }
      ],
      "source": [
        "from scipy.stats import chi2_contingency\n",
        "\n",
        "# Contingency table\n",
        "table_q2 = np.array([\n",
        "    [10, 50, 35],  # Male\n",
        "    [15, 60, 40]   # Female\n",
        "])\n",
        "\n",
        "# Chi-square test\n",
        "chi2_stat_q2, p_value_q2, dof_q2, expected_q2 = chi2_contingency(table_q2)\n",
        "print(f\"Chi2 Statistic: {chi2_stat_q2}, P-Value: {p_value_q2}\")"
      ]
    },
    {
      "cell_type": "markdown",
      "metadata": {},
      "source": [
        "## Question 3: Independence - Does hand preference depend on gender?"
      ]
    },
    {
      "cell_type": "code",
      "execution_count": 13,
      "metadata": {},
      "outputs": [
        {
          "name": "stdout",
          "output_type": "stream",
          "text": [
            "Chi2 Statistic: 0.4748000841750843, P-Value: 0.4907871540801906\n"
          ]
        }
      ],
      "source": [
        "# Contingency table\n",
        "table_q3 = np.array([\n",
        "    [12, 108],  # Female\n",
        "    [24, 156]   # Male\n",
        "])\n",
        "\n",
        "# Chi-square test\n",
        "chi2_stat_q3, p_value_q3, dof_q3, expected_q3 = chi2_contingency(table_q3)\n",
        "print(f\"Chi2 Statistic: {chi2_stat_q3}, P-Value: {p_value_q3}\")"
      ]
    },
    {
      "cell_type": "markdown",
      "metadata": {},
      "source": [
        "## Question 4: Independence - Does class standing influence meal plan selection?"
      ]
    },
    {
      "cell_type": "code",
      "execution_count": 14,
      "metadata": {},
      "outputs": [
        {
          "name": "stdout",
          "output_type": "stream",
          "text": [
            "Chi2 Statistic: 0.7093382807668522, P-Value: 0.9942873142017763\n"
          ]
        }
      ],
      "source": [
        "# Contingency table\n",
        "table_q4 = np.array([\n",
        "    [24, 32, 14],  # Freshman\n",
        "    [22, 26, 12],  # Sophomore\n",
        "    [10, 14, 6],   # Junior\n",
        "    [14, 16, 10]   # Senior\n",
        "])\n",
        "\n",
        "# Chi-square test\n",
        "chi2_stat_q4, p_value_q4, dof_q4, expected_q4 = chi2_contingency(table_q4)\n",
        "print(f\"Chi2 Statistic: {chi2_stat_q4}, P-Value: {p_value_q4}\")"
      ]
    },
    {
      "cell_type": "markdown",
      "metadata": {},
      "source": [
        "## Question 5: Independence - Is there a relationship between award preference and SAT dominance?"
      ]
    },
    {
      "cell_type": "code",
      "execution_count": 15,
      "metadata": {},
      "outputs": [
        {
          "name": "stdout",
          "output_type": "stream",
          "text": [
            "Chi2 Statistic: 13.622609647147335, P-Value: 0.0011012550185620991\n"
          ]
        }
      ],
      "source": [
        "# Contingency table\n",
        "table_q5 = np.array([\n",
        "    [21, 68, 116],  # Math\n",
        "    [10, 79, 61]    # Verbal\n",
        "])\n",
        "\n",
        "# Chi-square test\n",
        "chi2_stat_q5, p_value_q5, dof_q5, expected_q5 = chi2_contingency(table_q5)\n",
        "print(f\"Chi2 Statistic: {chi2_stat_q5}, P-Value: {p_value_q5}\")"
      ]
    },
    {
      "cell_type": "markdown",
      "metadata": {},
      "source": [
        "## Question 6: Independence - Is there a preference for ice cream flavors among different age groups?"
      ]
    },
    {
      "cell_type": "code",
      "execution_count": 16,
      "metadata": {},
      "outputs": [
        {
          "name": "stdout",
          "output_type": "stream",
          "text": [
            "Chi2 Statistic: 8.595734126984128, P-Value: 0.07203791043005359\n"
          ]
        }
      ],
      "source": [
        "# Contingency table\n",
        "table_q6 = np.array([\n",
        "    [35, 25, 15],  # Children\n",
        "    [20, 30, 20],  # Teenagers\n",
        "    [25, 20, 25]   # Adults\n",
        "])\n",
        "\n",
        "# Chi-square test\n",
        "chi2_stat_q6, p_value_q6, dof_q6, expected_q6 = chi2_contingency(table_q6)\n",
        "print(f\"Chi2 Statistic: {chi2_stat_q6}, P-Value: {p_value_q6}\")"
      ]
    },
    {
      "cell_type": "markdown",
      "metadata": {},
      "source": [
        "## Question 7: Goodness of Fit - Are the outcomes of a six-sided die roll equally distributed?"
      ]
    },
    {
      "cell_type": "code",
      "execution_count": 17,
      "metadata": {},
      "outputs": [
        {
          "name": "stdout",
          "output_type": "stream",
          "text": [
            "Chi2 Statistic: 9.079999999999998, P-Value: 0.10591545867098323\n"
          ]
        }
      ],
      "source": [
        "from scipy.stats import chisquare\n",
        "\n",
        "# Observed and expected frequencies\n",
        "observed_q7 = np.array([15, 20, 10, 18, 12, 25])\n",
        "total_observed = sum(observed_q7)\n",
        "expected_q7 = np.array([16.67] * 6)  # Define proportions\n",
        "expected_q7 = expected_q7 * total_observed / sum(expected_q7)  # Scale to match total\n",
        "\n",
        "# Chi-square test\n",
        "chi2_stat_q7, p_value_q7 = chisquare(f_obs=observed_q7, f_exp=expected_q7)\n",
        "print(f\"Chi2 Statistic: {chi2_stat_q7}, P-Value: {p_value_q7}\")\n"
      ]
    },
    {
      "cell_type": "markdown",
      "metadata": {},
      "source": [
        "## Question 8: Independence - Does the choice of transportation vary by region?"
      ]
    },
    {
      "cell_type": "code",
      "execution_count": 18,
      "metadata": {},
      "outputs": [
        {
          "name": "stdout",
          "output_type": "stream",
          "text": [
            "Chi2 Statistic: 57.64583333333333, P-Value: 9.055583808766023e-12\n"
          ]
        }
      ],
      "source": [
        "# Contingency table\n",
        "table_q8 = np.array([\n",
        "    [40, 30, 20],  # Urban\n",
        "    [50, 20, 10],  # Suburban\n",
        "    [30, 10, 60]   # Rural\n",
        "])\n",
        "\n",
        "# Chi-square test\n",
        "chi2_stat_q8, p_value_q8, dof_q8, expected_q8 = chi2_contingency(table_q8)\n",
        "print(f\"Chi2 Statistic: {chi2_stat_q8}, P-Value: {p_value_q8}\")"
      ]
    },
    {
      "cell_type": "markdown",
      "metadata": {},
      "source": [
        "## Question 9: Goodness of Fit - Are the observed and expected distributions of grades in a class significantly different?"
      ]
    },
    {
      "cell_type": "code",
      "execution_count": 19,
      "metadata": {},
      "outputs": [
        {
          "name": "stdout",
          "output_type": "stream",
          "text": [
            "Chi2 Statistic: 7.083333333333334, P-Value: 0.1315494286414895\n"
          ]
        }
      ],
      "source": [
        "# Observed and expected frequencies\n",
        "observed_q9 = np.array([15, 30, 40, 10, 5])\n",
        "expected_q9 = np.array([20, 30, 30, 10, 10]) * sum(observed_q9) / 100\n",
        "\n",
        "# Chi-square test\n",
        "chi2_stat_q9, p_value_q9 = chisquare(f_obs=observed_q9, f_exp=expected_q9)\n",
        "print(f\"Chi2 Statistic: {chi2_stat_q9}, P-Value: {p_value_q9}\")"
      ]
    }
  ],
  "metadata": {
    "kernelspec": {
      "display_name": "Python 3",
      "language": "python",
      "name": "python3"
    },
    "language_info": {
      "codemirror_mode": {
        "name": "ipython",
        "version": 3
      },
      "file_extension": ".py",
      "mimetype": "text/x-python",
      "name": "python",
      "nbconvert_exporter": "python",
      "pygments_lexer": "ipython3",
      "version": "3.12.6"
    }
  },
  "nbformat": 4,
  "nbformat_minor": 5
}
