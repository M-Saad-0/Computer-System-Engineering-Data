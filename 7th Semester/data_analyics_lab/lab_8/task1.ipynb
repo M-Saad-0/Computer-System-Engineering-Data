{
 "cells": [
  {
   "cell_type": "markdown",
   "metadata": {},
   "source": [
    "# Example 1"
   ]
  },
  {
   "cell_type": "code",
   "execution_count": 12,
   "metadata": {},
   "outputs": [
    {
     "name": "stdout",
     "output_type": "stream",
     "text": [
      "Fail to Reject :critical: 5.991464547107979\tcalculated: 0.3407530684418557\n"
     ]
    }
   ],
   "source": [
    "from scipy.stats import chi2_contingency, chi2\n",
    "import numpy as np\n",
    "\n",
    "observed = np.array([[10, 50, 35],[15, 60, 40]])\n",
    "chi2_, p, dof, expected = chi2_contingency(observed)\n",
    "critical_value = chi2.ppf(0.95, dof)\n",
    "if(critical_value<chi2_):\n",
    "    print (f\"Reject :critical: {critical_value}\\tcalculated: {chi2_}\")\n",
    "else:    \n",
    "    print (f\"Fail to Reject :critical: {critical_value}\\tcalculated: {chi2_}\")\n",
    "\n"
   ]
  },
  {
   "cell_type": "code",
   "execution_count": null,
   "metadata": {},
   "outputs": [
    {
     "name": "stdout",
     "output_type": "stream",
     "text": [
      "11.30952380952381 - 10\n",
      "49.76190476190476 - 50\n",
      "33.92857142857143 - 35\n",
      "13.69047619047619 - 15\n",
      "60.23809523809524 - 60\n",
      "41.07142857142857 - 40\n",
      "[[11.30952381 49.76190476 33.92857143]\n",
      " [13.69047619 60.23809524 41.07142857]]\n",
      "Fail to Reject :critical: 3.841458820694124\tcalculated: 0.3407530684418557\n"
     ]
    }
   ],
   "source": [
    "from scipy.stats import  chi2\n",
    "import numpy as np\n",
    "\n",
    "row_total = np.array([95, 115])\n",
    "column_total = np.array([25, 110, 75])\n",
    "total = 210\n",
    "\n",
    "\n",
    "observed = np.array([[10, 50, 35],[15, 60, 40]])\n",
    "expected = np.array([[0.0,0.0,0.0],[0.0,0.0,0.0]])\n",
    "\n",
    "for i in range(0, len(row_total)):\n",
    "    for j in range(0, len(column_total)):\n",
    "        expected[i][j] = row_total[i]*column_total[j]/total\n",
    "\n",
    "_chi = 0\n",
    "\n",
    "for i in range(0, 2):\n",
    "    for j in range(0, 3):\n",
    "        _chi = _chi + ((observed[i][j]-expected[i][j]) ** 2)/expected[i][j]\n",
    "\n",
    "print(expected)\n",
    "if(critical_value<_chi):\n",
    "    print (f\"Reject :critical: {critical_value}\\tcalculated: {_chi}\")\n",
    "else:    \n",
    "    print (f\"Fail to Reject :critical: {critical_value}\\tcalculated: {_chi}\")\n",
    "\n"
   ]
  },
  {
   "cell_type": "markdown",
   "metadata": {},
   "source": [
    "# Example 2"
   ]
  },
  {
   "cell_type": "code",
   "execution_count": 59,
   "metadata": {},
   "outputs": [
    {
     "name": "stdout",
     "output_type": "stream",
     "text": [
      "[[ 14.4 105.6]\n",
      " [ 21.6 158.4]]\n",
      "Fail to Reject :critical: 3.841458820694124\tcalculated: 0.7575757575757577\n"
     ]
    }
   ],
   "source": [
    "from scipy.stats import  chi2\n",
    "import numpy as np\n",
    "\n",
    "row_total = np.array([120, 180])\n",
    "column_total = np.array([36, 264])\n",
    "total = 300\n",
    "\n",
    "\n",
    "observed = np.array([[12, 108],[24, 156]])\n",
    "expected = np.array([[0.0,0.0],[0.0,0.0]])\n",
    "\n",
    "for i in range(0, len(row_total)):\n",
    "    for j in range(0, len(column_total)):\n",
    "        expected[i][j] = row_total[i]*column_total[j]/total\n",
    "\n",
    "_chi = 0\n",
    "critical_value = chi2.ppf(0.95, 1)\n",
    "\n",
    "\n",
    "for i in range(0, len(expected)):\n",
    "    for j in range(0, len(expected[0])):\n",
    "        _chi = _chi + ((observed[j][i]-expected[j][i]) ** 2)/expected[j][i]\n",
    "\n",
    "print(expected)\n",
    "if(critical_value<_chi):\n",
    "    print (f\"Reject :critical: {critical_value}\\tcalculated: {_chi}\")\n",
    "else:    \n",
    "    print (f\"Fail to Reject :critical: {critical_value}\\tcalculated: {_chi}\")\n",
    "\n"
   ]
  }
 ],
 "metadata": {
  "kernelspec": {
   "display_name": "Python 3",
   "language": "python",
   "name": "python3"
  },
  "language_info": {
   "codemirror_mode": {
    "name": "ipython",
    "version": 3
   },
   "file_extension": ".py",
   "mimetype": "text/x-python",
   "name": "python",
   "nbconvert_exporter": "python",
   "pygments_lexer": "ipython3",
   "version": "3.12.6"
  }
 },
 "nbformat": 4,
 "nbformat_minor": 2
}
