{
  "cells": [
    {
      "cell_type": "markdown",
      "id": "1c322130",
      "metadata": {},
      "source": [
        "## Task 1: Paired Sample t-Test"
      ]
    },
    {
      "cell_type": "code",
      "execution_count": 1,
      "id": "09973885",
      "metadata": {},
      "outputs": [
        {
          "name": "stdout",
          "output_type": "stream",
          "text": [
            "Statistically Significant: False\n"
          ]
        }
      ],
      "source": [
        "from scipy import stats\n",
        "\n",
        "t_statistic = 1.34\n",
        "df = 22\n",
        "alpha = 0.05\n",
        "p_value_task1 = stats.t.sf(abs(t_statistic), df) * 2  # Two-sided test\n",
        "statistically_significant_task1 = p_value_task1 < alpha\n",
        "\n",
        "print(f\"Statistically Significant: {statistically_significant_task1}\")"
      ]
    },
    {
      "cell_type": "markdown",
      "id": "25c22f93",
      "metadata": {},
      "source": [
        "## Task 2: Paired Sample t-Test"
      ]
    },
    {
      "cell_type": "code",
      "execution_count": 2,
      "id": "ac940616",
      "metadata": {},
      "outputs": [
        {
          "name": "stdout",
          "output_type": "stream",
          "text": [
            "Statistically Significant: True\n"
          ]
        }
      ],
      "source": [
        "import numpy as np\n",
        "\n",
        "sample1_task2 = np.array([22, 20, 19, 24, 25, 25, 28, 22, 30, 27, 24, 18, 16, 19, 19, 28, 24, 25, 25, 23])\n",
        "sample2_task2 = np.array([24, 22, 19, 22, 28, 26, 28, 24, 30, 29, 25, 20, 17, 18, 18, 28, 26, 27, 27, 24])\n",
        "\n",
        "t_statistic_task2, p_value_task2 = stats.ttest_rel(sample2_task2, sample1_task2)\n",
        "statistically_significant_task2 = p_value_task2 < alpha\n",
        "\n",
        "print(f\"Statistically Significant: {statistically_significant_task2}\")"
      ]
    },
    {
      "cell_type": "markdown",
      "id": "62cc1cfb",
      "metadata": {},
      "source": [
        "## Task 3: One-tailed (Right) Paired t-Test"
      ]
    },
    {
      "cell_type": "code",
      "execution_count": 3,
      "id": "620a3c63",
      "metadata": {},
      "outputs": [
        {
          "name": "stdout",
          "output_type": "stream",
          "text": [
            "Statistically Significant: True\n"
          ]
        }
      ],
      "source": [
        "sample1_task3 = np.array([55, 56, 72, 59, 46, 50, 63, 44])\n",
        "sample2_task3 = np.array([65, 78, 60, 58, 59, 57, 74, 61])\n",
        "\n",
        "t_statistic_task3, p_value_task3 = stats.ttest_rel(sample2_task3, sample1_task3)\n",
        "statistically_significant_task3 = (p_value_task3 / 2) < alpha  # One-tailed test\n",
        "\n",
        "print(f\"Statistically Significant: {statistically_significant_task3}\")"
      ]
    },
    {
      "cell_type": "markdown",
      "id": "b28a7552",
      "metadata": {},
      "source": [
        "## Task 4: Two-tailed Paired t-Test"
      ]
    },
    {
      "cell_type": "code",
      "execution_count": 4,
      "id": "2585d40d",
      "metadata": {},
      "outputs": [
        {
          "name": "stdout",
          "output_type": "stream",
          "text": [
            "Statistically Significant: False\n"
          ]
        }
      ],
      "source": [
        "operator1_task4 = np.array([63, 56, 62, 59, 62, 50, 63, 61, 56, 63])\n",
        "operator2_task4 = np.array([65, 57, 60, 58, 59, 57, 63, 61, 58, 64])\n",
        "\n",
        "t_statistic_task4, p_value_task4 = stats.ttest_rel(operator1_task4, operator2_task4)\n",
        "statistically_significant_task4 = p_value_task4 < alpha\n",
        "\n",
        "print(f\"Statistically Significant: {statistically_significant_task4}\")"
      ]
    },
    {
      "cell_type": "markdown",
      "id": "23ad692d",
      "metadata": {},
      "source": [
        "## Task 5: One-tailed (Left) Paired t-Test"
      ]
    },
    {
      "cell_type": "code",
      "execution_count": 5,
      "id": "b040e933",
      "metadata": {},
      "outputs": [
        {
          "name": "stdout",
          "output_type": "stream",
          "text": [
            "Statistically Significant: True\n"
          ]
        }
      ],
      "source": [
        "weight_before_task5 = np.array([62.7, 61.3, 59.2, 58.8, 75.2, 71.1, 58.6, 67.2, 72.7, 82.1])\n",
        "weight_after_task5 = np.array([62.2, 59.9, 58.8, 58.5, 74.6, 70.7, 58.1, 66.9, 72.1, 81.6])\n",
        "\n",
        "t_statistic_task5, p_value_task5 = stats.ttest_rel(weight_after_task5, weight_before_task5)\n",
        "statistically_significant_task5 = (p_value_task5 / 2) < alpha  # One-tailed test\n",
        "\n",
        "print(f\"Statistically Significant: {statistically_significant_task5}\")"
      ]
    },
    {
      "cell_type": "markdown",
      "id": "71eeb706",
      "metadata": {},
      "source": [
        "## Task 6: Two-tailed t-Test"
      ]
    },
    {
      "cell_type": "code",
      "execution_count": 6,
      "id": "616c439f",
      "metadata": {},
      "outputs": [
        {
          "name": "stdout",
          "output_type": "stream",
          "text": [
            "Statistically Significant: False\n"
          ]
        }
      ],
      "source": [
        "exam1_task6 = np.array([63, 65, 5, 100, 88, 83, 77, 92, 90, 84, 68, 74, 87, 64, 71, 88])\n",
        "exam2_task6 = np.array([69, 65, 62, 91, 78, 87, 79, 88, 85, 92, 69, 81, 84, 75, 84, 82])\n",
        "\n",
        "t_statistic_task6, p_value_task6 = stats.ttest_rel(exam1_task6, exam2_task6)\n",
        "statistically_significant_task6 = p_value_task6 < alpha\n",
        "\n",
        "print(f\"Statistically Significant: {statistically_significant_task6}\")"
      ]
    },
    {
      "cell_type": "markdown",
      "id": "52832ce3",
      "metadata": {},
      "source": [
        "## Task 7: One-tailed (Right) t-Test"
      ]
    },
    {
      "cell_type": "code",
      "execution_count": 7,
      "id": "e9633a27",
      "metadata": {},
      "outputs": [
        {
          "name": "stdout",
          "output_type": "stream",
          "text": [
            "Statistically Significant: True\n"
          ]
        }
      ],
      "source": [
        "mean_task7 = 44.9\n",
        "std_dev_task7 = 8.9\n",
        "n_task7 = 15\n",
        "population_mean_task7 = 40\n",
        "\n",
        "t_statistic_task7 = (mean_task7 - population_mean_task7) / (std_dev_task7 / np.sqrt(n_task7))\n",
        "p_value_task7 = stats.t.sf(t_statistic_task7, n_task7 - 1)\n",
        "statistically_significant_task7 = p_value_task7 < alpha\n",
        "\n",
        "print(f\"Statistically Significant: {statistically_significant_task7}\")"
      ]
    },
    {
      "cell_type": "markdown",
      "id": "975411b1",
      "metadata": {},
      "source": [
        "## Task 8: One-tailed (Right) One-sample t-Test"
      ]
    },
    {
      "cell_type": "code",
      "execution_count": 8,
      "id": "c605d6b3",
      "metadata": {},
      "outputs": [
        {
          "name": "stdout",
          "output_type": "stream",
          "text": [
            "Statistically Significant: False\n"
          ]
        }
      ],
      "source": [
        "yield_task8 = np.array([21.5, 24.5, 18.5, 17.2, 14.5, 23.2, 22.1, 20.5, 19.4, 18.1, 24.1, 18.5])\n",
        "population_mean_task8 = 20\n",
        "\n",
        "t_statistic_task8, p_value_task8 = stats.ttest_1samp(yield_task8, population_mean_task8)\n",
        "statistically_significant_task8 = (p_value_task8 / 2) < alpha  # One-tailed test\n",
        "\n",
        "print(f\"Statistically Significant: {statistically_significant_task8}\")"
      ]
    },
    {
      "cell_type": "markdown",
      "id": "73c94347",
      "metadata": {},
      "source": [
        "## Task 9: One-tailed (Right) One-sample t-Test"
      ]
    },
    {
      "cell_type": "code",
      "execution_count": 9,
      "id": "51412a2e",
      "metadata": {},
      "outputs": [
        {
          "name": "stdout",
          "output_type": "stream",
          "text": [
            "Statistically Significant: True\n"
          ]
        }
      ],
      "source": [
        "scores_task9 = np.array([62, 92, 75, 68, 83, 95])\n",
        "population_mean_task9 = 70\n",
        "\n",
        "t_statistic_task9, p_value_task9 = stats.ttest_1samp(scores_task9, population_mean_task9)\n",
        "statistically_significant_task9 = (p_value_task9 / 2) < 0.10  # One-tailed test with 90% confidence\n",
        "\n",
        "print(f\"Statistically Significant: {statistically_significant_task9}\")"
      ]
    },
    {
      "cell_type": "markdown",
      "id": "8f43d523",
      "metadata": {},
      "source": [
        "## Task 10: Two-tailed t-Test"
      ]
    },
    {
      "cell_type": "code",
      "execution_count": 10,
      "id": "0da561f0",
      "metadata": {},
      "outputs": [
        {
          "name": "stdout",
          "output_type": "stream",
          "text": [
            "Statistically Significant: False\n"
          ]
        }
      ],
      "source": [
        "scores_task10 = np.array([5, 9, 4, 11, 8])\n",
        "population_mean_task10 = np.mean(scores_task10)\n",
        "\n",
        "t_statistic_task10, p_value_task10 = stats.ttest_1samp(scores_task10, population_mean_task10)\n",
        "statistically_significant_task10 = p_value_task10 < alpha\n",
        "\n",
        "print(f\"Statistically Significant: {statistically_significant_task10}\")"
      ]
    }
  ],
  "metadata": {
    "kernelspec": {
      "display_name": "Python 3",
      "language": "python",
      "name": "python3"
    },
    "language_info": {
      "codemirror_mode": {
        "name": "ipython",
        "version": 3
      },
      "file_extension": ".py",
      "mimetype": "text/x-python",
      "name": "python",
      "nbconvert_exporter": "python",
      "pygments_lexer": "ipython3",
      "version": "3.12.6"
    }
  },
  "nbformat": 4,
  "nbformat_minor": 5
}
