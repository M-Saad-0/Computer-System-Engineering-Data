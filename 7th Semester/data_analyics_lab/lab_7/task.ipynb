{
 "cells": [
  {
   "cell_type": "markdown",
   "id": "19ecea6e",
   "metadata": {},
   "source": [
    "## Task 1\n",
    "##### Example: Suppose we conduct a two-sided hypothesis test at alpha level 0.05 to find out if mean weight loss differs between two diets. Suppose our test statistic t is 1.34 and our degrees of freedom is 22. We would like to know if these results are statistically significant.\n"
   ]
  },
  {
   "cell_type": "code",
   "execution_count": 47,
   "id": "task-1",
   "metadata": {},
   "outputs": [
    {
     "name": "stdout",
     "output_type": "stream",
     "text": [
      "Accept  2.0738730679040147 1.34\n"
     ]
    }
   ],
   "source": [
    "from scipy.stats import t\n",
    "\n",
    "alpha = 0.05\n",
    "df = 22\n",
    "n = 23\n",
    "t_test = 1.34\n",
    "\n",
    "t_critical = t.ppf(1-alpha/2, df)\n",
    "if t_test>-t_critical and t_test<t_critical:\n",
    "    print(\"Accept \", t_critical, t_test)\n",
    "else:\n",
    "    print(\"Reject\")\n",
    "\n"
   ]
  },
  {
   "cell_type": "markdown",
   "id": "199894bd",
   "metadata": {},
   "source": []
  },
  {
   "cell_type": "markdown",
   "id": "b1e531e0",
   "metadata": {},
   "source": [
    "## Task 2\n",
    "##### Example:  Two  operators  are  checking  the  same dimension on the same sample of 10 parts. Below are the results. Is there a significant operator measurement error? Test at the 5% significance level.\n"
   ]
  },
  {
   "cell_type": "code",
   "execution_count": null,
   "id": "task-2",
   "metadata": {},
   "outputs": [
    {
     "name": "stdout",
     "output_type": "stream",
     "text": [
      "[-2 -1  2  1  3 -7  0  0 -2 -1]\n",
      "Accept  2.2621571628540993 -0.8047217485013146\n"
     ]
    }
   ],
   "source": [
    "from scipy.stats import t\n",
    "import numpy as np\n",
    "\n",
    "\n",
    "operator1 = np.array([63, 56, 62, 59, 62, 50, 63, 61, 56, 63])\n",
    "operator2 = np.array([65, 57, 60, 58, 59, 57, 63, 61, 58, 64])\n",
    "alpha = 0.05\n",
    "n = 10\n",
    "df = n-1\n",
    "difference = np.array(operator1 - operator2)\n",
    "\n",
    "std = np.std(difference, ddof=1)  \n",
    "print(difference)\n",
    "\n",
    "t_test =  ( np.mean(difference)) / (std / (n ** 0.5))\n",
    "t_crititcal = t.ppf(1-alpha/2, df)\n",
    "\n",
    "if t_test>-t_critical and t_test<t_critical:\n",
    "    print(\"Accept \", t_crititcal, t_test)\n",
    "else:\n",
    "    print(\"Reject\")\n",
    "\n"
   ]
  },
  {
   "cell_type": "markdown",
   "id": "d3544245",
   "metadata": {},
   "source": [
    "## Task 3\n",
    "##### Example: Suppose we want to know whether or not a certain training program is able to increase the max vertical jump (in inches) of college basketball players. To test this, we may recruit a simple random sample of 20 college basketball players and measure each of their max vertical jumps. Then, we may have each player use the training program for one month and then measure their max vertical jump again at the end of the month.\n"
   ]
  },
  {
   "cell_type": "code",
   "execution_count": 57,
   "id": "task-3",
   "metadata": {},
   "outputs": [
    {
     "name": "stdout",
     "output_type": "stream",
     "text": [
      "-3.22617331116718 0.004445370704412229\n",
      "Reject 2.093024054408263 -3.22617331116718\n"
     ]
    }
   ],
   "source": [
    "from scipy.stats import t, ttest_rel\n",
    "import numpy as np\n",
    "\n",
    "\n",
    "before = np.array([22, 20, 19, 24, 25, 25, 28, 22, 30, 27, 24, 18, 16, 19, 19, 28, 24, 25, 25, 23])\n",
    "after = np.array([24, 22, 19, 22, 28, 26, 28, 24, 30, 29, 25, 20, 17, 18, 18, 28, 26, 27, 27, 24])\n",
    "alpha = 0.05\n",
    "n = 20\n",
    "df = n-1\n",
    "difference = before - after\n",
    "\n",
    "std = np.std(difference, ddof=1)  \n",
    "\n",
    "t_test =  ( np.mean(difference)) / (std / (n ** 0.5))\n",
    "\n",
    "t_critical = t.ppf(1-alpha/2, df)\n",
    "\n",
    "t_Stats, p_Val = ttest_rel(before,after)\n",
    "print(t_Stats,p_Val)\n",
    "\n",
    "if t_test>-t_critical and t_test<t_critical:\n",
    "    print(\"Accept\", t_critical, t_test)\n",
    "else:\n",
    "    print(\"Reject\", t_critical, t_test)\n",
    "\n"
   ]
  },
  {
   "cell_type": "markdown",
   "id": "e39d6bea",
   "metadata": {},
   "source": [
    "## Task 4\n",
    "##### Example:  Artificial  Intelligence  (AI)  training  institute evaluating  the  effectiveness  of  training  by  comparing  AI knowledge of the students before and after the execution of live projects. At a 95% confidence level, does this information provide sufficient evidence to indicate that the live projects will improve the students’ AI knowledge?\n"
   ]
  },
  {
   "cell_type": "code",
   "execution_count": 50,
   "id": "task-4",
   "metadata": {},
   "outputs": [
    {
     "name": "stdout",
     "output_type": "stream",
     "text": [
      "Accept  1.894578605061305 -2.229465400161207\n"
     ]
    }
   ],
   "source": [
    "from scipy.stats import t\n",
    "import numpy as np\n",
    "\n",
    "\n",
    "before = np.array([55, 56, 72, 59, 46, 50, 63, 44]) \n",
    "after = np.array([65, 78, 60, 58, 59, 57, 74, 62])\n",
    "alpha = 0.05\n",
    "n = 8\n",
    "df = n-1\n",
    "difference = before - after\n",
    "\n",
    "std = np.std(difference, ddof=1)  \n",
    "\n",
    "t_test =  ( np.mean(difference)) / (std / (n ** 0.5))\n",
    "\n",
    "t_crititcal = t.ppf(1-alpha, df)\n",
    "\n",
    "if t_test<t_crititcal:\n",
    "    print(\"Accept \", t_crititcal, t_test)\n",
    "else:\n",
    "    print(\"Reject\")\n",
    "\n"
   ]
  },
  {
   "cell_type": "markdown",
   "id": "6350bb26",
   "metadata": {},
   "source": [
    "## Task 5\n",
    "##### Example: A dietician is evaluating the individual weights before and after following the diet plan. At a 95% confidence level, is there any significant evidence of the reduction of weight of the individuals?\n"
   ]
  },
  {
   "cell_type": "code",
   "execution_count": 51,
   "id": "task-5",
   "metadata": {},
   "outputs": [
    {
     "name": "stdout",
     "output_type": "stream",
     "text": [
      "Accept  1.8331129326536333 5.4847855863449\n"
     ]
    }
   ],
   "source": [
    "from scipy.stats import t\n",
    "import numpy as np\n",
    "\n",
    "before = np.array([62.7, 61.3, 59.2, 58.8, 75.2, 71.1, 58.6, 67.2, 72.7, 82.1])\n",
    "after = np.array([62.2, 59.9, 58.8, 58.5, 74.6, 70.7, 58.1, 66.9, 72.1, 81.6])\n",
    "alpha = 0.05\n",
    "n = 10\n",
    "df = n-1\n",
    "difference = before - after\n",
    "\n",
    "std = np.std(difference, ddof=1)  \n",
    "\n",
    "t_test =  ( np.mean(difference)) / (std / (n ** 0.5))\n",
    "\n",
    "t_crititcal = t.ppf(1-alpha, df)\n",
    "\n",
    "if t_test>t_crititcal:\n",
    "    print(\"Accept \", t_crititcal, t_test)\n",
    "else:\n",
    "    print(\"Reject\")\n",
    "\n"
   ]
  },
  {
   "cell_type": "markdown",
   "id": "b03bc5aa",
   "metadata": {},
   "source": [
    "## Task 6\n",
    "##### Example: A small company wants to test the claim that their manufactured bulbs last more than 40 hours. Using a simple random sample of 15 bulbs yielded a mean of 44.9 hours, with a standard deviation of 8.9 hours. Test this claim using a significance level of 0.05.\n"
   ]
  },
  {
   "cell_type": "code",
   "execution_count": 52,
   "id": "task-6",
   "metadata": {},
   "outputs": [
    {
     "name": "stdout",
     "output_type": "stream",
     "text": [
      "Reject 1.7613101357748562 2.132316673754645\n"
     ]
    }
   ],
   "source": [
    "from scipy.stats import t\n",
    "import numpy as np\n",
    "\n",
    "X = 44.9\n",
    "u = 40\n",
    "alpha = 0.05\n",
    "n = 15\n",
    "df = n-1\n",
    "std = 8.9\n",
    "\n",
    "t_test =  (X-u) / (std / (n ** 0.5))\n",
    "\n",
    "t_crititcal = t.ppf(1-alpha, df)\n",
    "\n",
    "if t_test<t_crititcal:\n",
    "    print(\"Accept \", t_crititcal, t_test)\n",
    "else:\n",
    "    print(\"Reject\", t_crititcal, t_test)\n",
    "\n"
   ]
  },
  {
   "cell_type": "markdown",
   "id": "a6648fe1",
   "metadata": {},
   "source": [
    "## Task 7\n",
    "##### Example:  Ali  collect  tomato's  that  is  produced  from  12 different farmhouses. Ali know that the standard tomato yield for the given variety is µ=20. x = [21.5, 24.5, 18.5, 17.2, 14.5,\t23.2,\t22.1,\t20.5,\t19.4,\t18.1,\t24.1,\t18.5]\tTest\tif\tthe tomato\tproduced\tfrom\tthese\tfarmhouses\tis\tsignificantly better than the standard yield for 0.05 significance level."
   ]
  },
  {
   "cell_type": "code",
   "execution_count": 53,
   "id": "task-7",
   "metadata": {},
   "outputs": [
    {
     "name": "stdout",
     "output_type": "stream",
     "text": [
      "Accept  1.7958848187036691 0.2006562773994862\n"
     ]
    }
   ],
   "source": [
    "from scipy.stats import t\n",
    "import numpy as np\n",
    "\n",
    "u=20\n",
    "sample = [21.5, 24.5, 18.5, 17.2, 14.5,\t23.2,\t22.1,\t20.5,\t19.4,\t18.1,\t24.1,\t18.5]\n",
    "X = np.mean(sample)\n",
    "n = 12\n",
    "df = n - 1\n",
    "std = np.std(sample, ddof=1)\n",
    "t_test =  (X-u) / (std / (n ** 0.5))\n",
    "\n",
    "t_critical = t.ppf(1-alpha, df)\n",
    "\n",
    "if t_test<t_critical:\n",
    "    print(\"Accept \", t_critical, t_test)\n",
    "else:\n",
    "    print(\"Reject\", t_critical, t_test)\n",
    "\n"
   ]
  }
 ],
 "metadata": {
  "kernelspec": {
   "display_name": "Python 3",
   "language": "python",
   "name": "python3"
  },
  "language_info": {
   "codemirror_mode": {
    "name": "ipython",
    "version": 3
   },
   "file_extension": ".py",
   "mimetype": "text/x-python",
   "name": "python",
   "nbconvert_exporter": "python",
   "pygments_lexer": "ipython3",
   "version": "3.12.6"
  }
 },
 "nbformat": 4,
 "nbformat_minor": 5
}
